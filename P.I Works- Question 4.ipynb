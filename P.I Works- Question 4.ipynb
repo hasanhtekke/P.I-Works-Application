{
 "cells": [
  {
   "cell_type": "code",
   "execution_count": 1,
   "id": "1f1d7a6c",
   "metadata": {},
   "outputs": [],
   "source": [
    "import pandas as pd"
   ]
  },
  {
   "cell_type": "code",
   "execution_count": 2,
   "id": "a2b20f2c",
   "metadata": {},
   "outputs": [],
   "source": [
    "file_path = r'C:\\Users\\VICTUS\\Desktop\\Python Projects\\country_vaccination_stats.xlsx'\n",
    "data = pd.read_excel(file_path)"
   ]
  },
  {
   "cell_type": "code",
   "execution_count": 3,
   "id": "ef1b548f",
   "metadata": {},
   "outputs": [
    {
     "data": {
      "text/html": [
       "<div>\n",
       "<style scoped>\n",
       "    .dataframe tbody tr th:only-of-type {\n",
       "        vertical-align: middle;\n",
       "    }\n",
       "\n",
       "    .dataframe tbody tr th {\n",
       "        vertical-align: top;\n",
       "    }\n",
       "\n",
       "    .dataframe thead th {\n",
       "        text-align: right;\n",
       "    }\n",
       "</style>\n",
       "<table border=\"1\" class=\"dataframe\">\n",
       "  <thead>\n",
       "    <tr style=\"text-align: right;\">\n",
       "      <th></th>\n",
       "      <th>country</th>\n",
       "      <th>date</th>\n",
       "      <th>daily_vaccinations</th>\n",
       "      <th>vaccines</th>\n",
       "    </tr>\n",
       "  </thead>\n",
       "  <tbody>\n",
       "    <tr>\n",
       "      <th>0</th>\n",
       "      <td>Argentina</td>\n",
       "      <td>12/29/2020</td>\n",
       "      <td>NaN</td>\n",
       "      <td>Sputnik V</td>\n",
       "    </tr>\n",
       "    <tr>\n",
       "      <th>1</th>\n",
       "      <td>Argentina</td>\n",
       "      <td>12/30/2020</td>\n",
       "      <td>15656.0</td>\n",
       "      <td>Sputnik V</td>\n",
       "    </tr>\n",
       "    <tr>\n",
       "      <th>2</th>\n",
       "      <td>Argentina</td>\n",
       "      <td>12/31/2020</td>\n",
       "      <td>15656.0</td>\n",
       "      <td>Sputnik V</td>\n",
       "    </tr>\n",
       "    <tr>\n",
       "      <th>3</th>\n",
       "      <td>Argentina</td>\n",
       "      <td>2021-01-01 00:00:00</td>\n",
       "      <td>11070.0</td>\n",
       "      <td>Sputnik V</td>\n",
       "    </tr>\n",
       "    <tr>\n",
       "      <th>4</th>\n",
       "      <td>Argentina</td>\n",
       "      <td>2021-02-01 00:00:00</td>\n",
       "      <td>8776.0</td>\n",
       "      <td>Sputnik V</td>\n",
       "    </tr>\n",
       "  </tbody>\n",
       "</table>\n",
       "</div>"
      ],
      "text/plain": [
       "     country                 date  daily_vaccinations   vaccines\n",
       "0  Argentina           12/29/2020                 NaN  Sputnik V\n",
       "1  Argentina           12/30/2020             15656.0  Sputnik V\n",
       "2  Argentina           12/31/2020             15656.0  Sputnik V\n",
       "3  Argentina  2021-01-01 00:00:00             11070.0  Sputnik V\n",
       "4  Argentina  2021-02-01 00:00:00              8776.0  Sputnik V"
      ]
     },
     "execution_count": 3,
     "metadata": {},
     "output_type": "execute_result"
    }
   ],
   "source": [
    "data.head() # Looking the first 5 rows of data"
   ]
  },
  {
   "cell_type": "code",
   "execution_count": 4,
   "id": "b435a842",
   "metadata": {},
   "outputs": [],
   "source": [
    "min_vacc = data[data['daily_vaccinations'].notnull()].groupby('country')['daily_vaccinations'].min() #Grouping daily_vaccinations values by the country, and then assigning their min values to a variable."
   ]
  },
  {
   "cell_type": "code",
   "execution_count": 5,
   "id": "9fd12855",
   "metadata": {},
   "outputs": [
    {
     "data": {
      "text/plain": [
       "country\n",
       "Argentina                 6483.0\n",
       "Austria                   3368.0\n",
       "Bahrain                    943.0\n",
       "Belgium                      1.0\n",
       "Brazil                     112.0\n",
       "Bulgaria                   472.0\n",
       "Canada                     866.0\n",
       "Chile                       51.0\n",
       "China                   187500.0\n",
       "Costa Rica                 240.0\n",
       "Croatia                    989.0\n",
       "Cyprus                     534.0\n",
       "Czechia                   1822.0\n",
       "Denmark                   1994.0\n",
       "Ecuador                    108.0\n",
       "England                  37625.0\n",
       "Estonia                    309.0\n",
       "Finland                    459.0\n",
       "France                    5000.0\n",
       "Germany                  19721.0\n",
       "Gibraltar                  520.0\n",
       "Greece                     549.0\n",
       "Hungary                   1339.0\n",
       "Iceland                     63.0\n",
       "India                   112150.0\n",
       "Indonesia                11823.0\n",
       "Ireland                    550.0\n",
       "Isle of Man                 90.0\n",
       "Israel                    6887.0\n",
       "Italy                      926.0\n",
       "Latvia                     338.0\n",
       "Lithuania                  311.0\n",
       "Luxembourg                  62.0\n",
       "Malta                      259.0\n",
       "Mexico                    1300.0\n",
       "Netherlands               4000.0\n",
       "Northern Ireland          1563.0\n",
       "Norway                     224.0\n",
       "Oman                       817.0\n",
       "Panama                       6.0\n",
       "Poland                    4300.0\n",
       "Portugal                  2791.0\n",
       "Romania                    712.0\n",
       "Russia                    3357.0\n",
       "Saudi Arabia             14153.0\n",
       "Scotland                  3047.0\n",
       "Serbia                    1150.0\n",
       "Seychelles                 500.0\n",
       "Singapore                 2800.0\n",
       "Slovakia                   425.0\n",
       "Slovenia                  1270.0\n",
       "Spain                    41496.0\n",
       "Sweden                    3859.0\n",
       "Switzerland               3000.0\n",
       "Turkey                   67192.0\n",
       "United Arab Emirates     30698.0\n",
       "United Kingdom           46423.0\n",
       "United States            57909.0\n",
       "Wales                     1763.0\n",
       "Name: daily_vaccinations, dtype: float64"
      ]
     },
     "execution_count": 5,
     "metadata": {},
     "output_type": "execute_result"
    }
   ],
   "source": [
    "min_vacc #Minimum daily_vaccinations values of each country with a missing values."
   ]
  },
  {
   "cell_type": "code",
   "execution_count": 6,
   "id": "eae53af1",
   "metadata": {},
   "outputs": [
    {
     "data": {
      "text/plain": [
       "country                0\n",
       "date                   0\n",
       "daily_vaccinations    60\n",
       "vaccines               0\n",
       "dtype: int64"
      ]
     },
     "execution_count": 6,
     "metadata": {},
     "output_type": "execute_result"
    }
   ],
   "source": [
    "data.isnull().sum() #Checking the total number of missing values in the 'daily_vaccinations' column."
   ]
  },
  {
   "cell_type": "code",
   "execution_count": 7,
   "id": "74962392",
   "metadata": {},
   "outputs": [],
   "source": [
    "data['daily_vaccinations'] = data.apply(lambda row: min_vacc.get(row['country'], 0) if pd.isnull(row['daily_vaccinations']) else row['daily_vaccinations'], axis=1)\n",
    "# Implementing the min_vacc values to the missing values of the relevant countries."
   ]
  },
  {
   "cell_type": "code",
   "execution_count": 8,
   "id": "4772a5e4",
   "metadata": {},
   "outputs": [
    {
     "data": {
      "text/html": [
       "<div>\n",
       "<style scoped>\n",
       "    .dataframe tbody tr th:only-of-type {\n",
       "        vertical-align: middle;\n",
       "    }\n",
       "\n",
       "    .dataframe tbody tr th {\n",
       "        vertical-align: top;\n",
       "    }\n",
       "\n",
       "    .dataframe thead th {\n",
       "        text-align: right;\n",
       "    }\n",
       "</style>\n",
       "<table border=\"1\" class=\"dataframe\">\n",
       "  <thead>\n",
       "    <tr style=\"text-align: right;\">\n",
       "      <th></th>\n",
       "      <th>country</th>\n",
       "      <th>date</th>\n",
       "      <th>daily_vaccinations</th>\n",
       "      <th>vaccines</th>\n",
       "    </tr>\n",
       "  </thead>\n",
       "  <tbody>\n",
       "    <tr>\n",
       "      <th>1497</th>\n",
       "      <td>Wales</td>\n",
       "      <td>1/20/2021</td>\n",
       "      <td>11105.0</td>\n",
       "      <td>Oxford/AstraZeneca, Pfizer/BioNTech</td>\n",
       "    </tr>\n",
       "    <tr>\n",
       "      <th>1498</th>\n",
       "      <td>Wales</td>\n",
       "      <td>1/21/2021</td>\n",
       "      <td>12318.0</td>\n",
       "      <td>Oxford/AstraZeneca, Pfizer/BioNTech</td>\n",
       "    </tr>\n",
       "    <tr>\n",
       "      <th>1499</th>\n",
       "      <td>Wales</td>\n",
       "      <td>1/22/2021</td>\n",
       "      <td>15148.0</td>\n",
       "      <td>Oxford/AstraZeneca, Pfizer/BioNTech</td>\n",
       "    </tr>\n",
       "    <tr>\n",
       "      <th>1500</th>\n",
       "      <td>Wales</td>\n",
       "      <td>1/23/2021</td>\n",
       "      <td>17371.0</td>\n",
       "      <td>Oxford/AstraZeneca, Pfizer/BioNTech</td>\n",
       "    </tr>\n",
       "    <tr>\n",
       "      <th>1501</th>\n",
       "      <td>Wales</td>\n",
       "      <td>1/24/2021</td>\n",
       "      <td>17063.0</td>\n",
       "      <td>Oxford/AstraZeneca, Pfizer/BioNTech</td>\n",
       "    </tr>\n",
       "  </tbody>\n",
       "</table>\n",
       "</div>"
      ],
      "text/plain": [
       "     country       date  daily_vaccinations  \\\n",
       "1497   Wales  1/20/2021             11105.0   \n",
       "1498   Wales  1/21/2021             12318.0   \n",
       "1499   Wales  1/22/2021             15148.0   \n",
       "1500   Wales  1/23/2021             17371.0   \n",
       "1501   Wales  1/24/2021             17063.0   \n",
       "\n",
       "                                 vaccines  \n",
       "1497  Oxford/AstraZeneca, Pfizer/BioNTech  \n",
       "1498  Oxford/AstraZeneca, Pfizer/BioNTech  \n",
       "1499  Oxford/AstraZeneca, Pfizer/BioNTech  \n",
       "1500  Oxford/AstraZeneca, Pfizer/BioNTech  \n",
       "1501  Oxford/AstraZeneca, Pfizer/BioNTech  "
      ]
     },
     "execution_count": 8,
     "metadata": {},
     "output_type": "execute_result"
    }
   ],
   "source": [
    "data.tail() #Looking at the last 5 rows."
   ]
  },
  {
   "cell_type": "code",
   "execution_count": 9,
   "id": "c0cf83dc",
   "metadata": {},
   "outputs": [
    {
     "data": {
      "text/plain": [
       "country               0\n",
       "date                  0\n",
       "daily_vaccinations    0\n",
       "vaccines              0\n",
       "dtype: int64"
      ]
     },
     "execution_count": 9,
     "metadata": {},
     "output_type": "execute_result"
    }
   ],
   "source": [
    "data.isnull().sum()"
   ]
  },
  {
   "cell_type": "code",
   "execution_count": null,
   "id": "1eebde87",
   "metadata": {},
   "outputs": [],
   "source": []
  }
 ],
 "metadata": {
  "kernelspec": {
   "display_name": "Python 3 (ipykernel)",
   "language": "python",
   "name": "python3"
  },
  "language_info": {
   "codemirror_mode": {
    "name": "ipython",
    "version": 3
   },
   "file_extension": ".py",
   "mimetype": "text/x-python",
   "name": "python",
   "nbconvert_exporter": "python",
   "pygments_lexer": "ipython3",
   "version": "3.9.13"
  }
 },
 "nbformat": 4,
 "nbformat_minor": 5
}
