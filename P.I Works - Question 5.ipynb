{
 "cells": [
  {
   "cell_type": "code",
   "execution_count": 1,
   "id": "531256cb",
   "metadata": {},
   "outputs": [],
   "source": [
    "import pandas as pd"
   ]
  },
  {
   "cell_type": "code",
   "execution_count": 2,
   "id": "30ee8114",
   "metadata": {},
   "outputs": [],
   "source": [
    "file_path = r'C:\\Users\\VICTUS\\Desktop\\Python Projects\\country_vaccination_stats.xlsx'\n",
    "data = pd.read_excel(file_path)"
   ]
  },
  {
   "cell_type": "code",
   "execution_count": 3,
   "id": "9c1634c8",
   "metadata": {},
   "outputs": [
    {
     "data": {
      "text/html": [
       "<div>\n",
       "<style scoped>\n",
       "    .dataframe tbody tr th:only-of-type {\n",
       "        vertical-align: middle;\n",
       "    }\n",
       "\n",
       "    .dataframe tbody tr th {\n",
       "        vertical-align: top;\n",
       "    }\n",
       "\n",
       "    .dataframe thead th {\n",
       "        text-align: right;\n",
       "    }\n",
       "</style>\n",
       "<table border=\"1\" class=\"dataframe\">\n",
       "  <thead>\n",
       "    <tr style=\"text-align: right;\">\n",
       "      <th></th>\n",
       "      <th>country</th>\n",
       "      <th>date</th>\n",
       "      <th>daily_vaccinations</th>\n",
       "      <th>vaccines</th>\n",
       "    </tr>\n",
       "  </thead>\n",
       "  <tbody>\n",
       "    <tr>\n",
       "      <th>0</th>\n",
       "      <td>Argentina</td>\n",
       "      <td>12/29/2020</td>\n",
       "      <td>NaN</td>\n",
       "      <td>Sputnik V</td>\n",
       "    </tr>\n",
       "    <tr>\n",
       "      <th>1</th>\n",
       "      <td>Argentina</td>\n",
       "      <td>12/30/2020</td>\n",
       "      <td>15656.0</td>\n",
       "      <td>Sputnik V</td>\n",
       "    </tr>\n",
       "    <tr>\n",
       "      <th>2</th>\n",
       "      <td>Argentina</td>\n",
       "      <td>12/31/2020</td>\n",
       "      <td>15656.0</td>\n",
       "      <td>Sputnik V</td>\n",
       "    </tr>\n",
       "    <tr>\n",
       "      <th>3</th>\n",
       "      <td>Argentina</td>\n",
       "      <td>2021-01-01 00:00:00</td>\n",
       "      <td>11070.0</td>\n",
       "      <td>Sputnik V</td>\n",
       "    </tr>\n",
       "    <tr>\n",
       "      <th>4</th>\n",
       "      <td>Argentina</td>\n",
       "      <td>2021-02-01 00:00:00</td>\n",
       "      <td>8776.0</td>\n",
       "      <td>Sputnik V</td>\n",
       "    </tr>\n",
       "  </tbody>\n",
       "</table>\n",
       "</div>"
      ],
      "text/plain": [
       "     country                 date  daily_vaccinations   vaccines\n",
       "0  Argentina           12/29/2020                 NaN  Sputnik V\n",
       "1  Argentina           12/30/2020             15656.0  Sputnik V\n",
       "2  Argentina           12/31/2020             15656.0  Sputnik V\n",
       "3  Argentina  2021-01-01 00:00:00             11070.0  Sputnik V\n",
       "4  Argentina  2021-02-01 00:00:00              8776.0  Sputnik V"
      ]
     },
     "execution_count": 3,
     "metadata": {},
     "output_type": "execute_result"
    }
   ],
   "source": [
    "data.head() #Looking at the first 5 rows in the dataset."
   ]
  },
  {
   "cell_type": "code",
   "execution_count": 4,
   "id": "2bad617a",
   "metadata": {},
   "outputs": [
    {
     "data": {
      "text/plain": [
       "country                0\n",
       "date                   0\n",
       "daily_vaccinations    60\n",
       "vaccines               0\n",
       "dtype: int64"
      ]
     },
     "execution_count": 4,
     "metadata": {},
     "output_type": "execute_result"
    }
   ],
   "source": [
    "data.isnull().sum() #Calculating the total number of missing values in the dataset."
   ]
  },
  {
   "cell_type": "code",
   "execution_count": 5,
   "id": "52eaf58f",
   "metadata": {},
   "outputs": [],
   "source": [
    "med_vaccinations = data.groupby('country')['daily_vaccinations'].median() #Getting the median values of the daily_vaccinations row grouping by the country."
   ]
  },
  {
   "cell_type": "code",
   "execution_count": 6,
   "id": "7b4959e0",
   "metadata": {},
   "outputs": [
    {
     "data": {
      "text/plain": [
       "country\n",
       "Argentina                11704.0\n",
       "Austria                   7953.0\n",
       "Bahrain                   3871.0\n",
       "Belgium                   3634.0\n",
       "Brazil                   27304.0\n",
       "Bulgaria                  1013.0\n",
       "Canada                   11577.5\n",
       "Chile                     1328.5\n",
       "China                   299107.5\n",
       "Costa Rica                 763.0\n",
       "Croatia                   2497.5\n",
       "Cyprus                     729.5\n",
       "Czechia                   5812.0\n",
       "Denmark                   7139.0\n",
       "Ecuador                    108.0\n",
       "England                 115637.0\n",
       "Estonia                   1051.5\n",
       "Finland                   2332.0\n",
       "France                   43961.0\n",
       "Germany                  52415.5\n",
       "Gibraltar                  744.0\n",
       "Greece                    5388.0\n",
       "Hungary                   5581.0\n",
       "Iceland                     63.0\n",
       "India                   182551.5\n",
       "Indonesia                13200.0\n",
       "Ireland                   6607.0\n",
       "Isle of Man                146.5\n",
       "Israel                   95621.0\n",
       "Italy                    45417.0\n",
       "Kuwait                       NaN\n",
       "Latvia                     597.0\n",
       "Lithuania                 1944.0\n",
       "Luxembourg                 114.0\n",
       "Malta                      419.0\n",
       "Mexico                    5682.0\n",
       "Netherlands               6881.0\n",
       "Northern Ireland          2247.5\n",
       "Norway                    2982.0\n",
       "Oman                      1199.0\n",
       "Panama                    1364.0\n",
       "Poland                   23659.0\n",
       "Portugal                  5946.5\n",
       "Romania                  13214.0\n",
       "Russia                   25299.0\n",
       "Saudi Arabia             16843.0\n",
       "Scotland                  5821.0\n",
       "Serbia                    3153.0\n",
       "Seychelles                1059.0\n",
       "Singapore                 4950.0\n",
       "Slovakia                  5473.0\n",
       "Slovenia                  2415.0\n",
       "Spain                    56505.0\n",
       "Sweden                    5600.0\n",
       "Switzerland               3000.0\n",
       "Turkey                  154397.5\n",
       "United Arab Emirates     88134.5\n",
       "United Kingdom          129663.0\n",
       "United States           399093.0\n",
       "Wales                     2324.0\n",
       "Name: daily_vaccinations, dtype: float64"
      ]
     },
     "execution_count": 6,
     "metadata": {},
     "output_type": "execute_result"
    }
   ],
   "source": [
    "med_vaccinations #Checking the median values of the countries."
   ]
  },
  {
   "cell_type": "code",
   "execution_count": 7,
   "id": "0c9c840c",
   "metadata": {},
   "outputs": [],
   "source": [
    "data['daily_vaccinations'] = data.apply(lambda row: med_vaccinations.get(row['country'], 0) if pd.isnull(row['daily_vaccinations']) else row['daily_vaccinations'], axis=1)\n",
    "#Using pandas apply function for filling the missing values by relevant countries median values of daily_vaccinations."
   ]
  },
  {
   "cell_type": "code",
   "execution_count": 8,
   "id": "df066e37",
   "metadata": {},
   "outputs": [],
   "source": [
    "highest_vacc = med_vaccinations.sort_values(ascending=False) #Sorting median values by using sort_values function and then assigning them to the variable."
   ]
  },
  {
   "cell_type": "code",
   "execution_count": 9,
   "id": "790d2346",
   "metadata": {},
   "outputs": [
    {
     "data": {
      "text/plain": [
       "country\n",
       "United States           399093.0\n",
       "China                   299107.5\n",
       "India                   182551.5\n",
       "Turkey                  154397.5\n",
       "United Kingdom          129663.0\n",
       "England                 115637.0\n",
       "Israel                   95621.0\n",
       "United Arab Emirates     88134.5\n",
       "Spain                    56505.0\n",
       "Germany                  52415.5\n",
       "Italy                    45417.0\n",
       "France                   43961.0\n",
       "Brazil                   27304.0\n",
       "Russia                   25299.0\n",
       "Poland                   23659.0\n",
       "Saudi Arabia             16843.0\n",
       "Romania                  13214.0\n",
       "Indonesia                13200.0\n",
       "Argentina                11704.0\n",
       "Canada                   11577.5\n",
       "Austria                   7953.0\n",
       "Denmark                   7139.0\n",
       "Netherlands               6881.0\n",
       "Ireland                   6607.0\n",
       "Portugal                  5946.5\n",
       "Scotland                  5821.0\n",
       "Czechia                   5812.0\n",
       "Mexico                    5682.0\n",
       "Sweden                    5600.0\n",
       "Hungary                   5581.0\n",
       "Slovakia                  5473.0\n",
       "Greece                    5388.0\n",
       "Singapore                 4950.0\n",
       "Bahrain                   3871.0\n",
       "Belgium                   3634.0\n",
       "Serbia                    3153.0\n",
       "Switzerland               3000.0\n",
       "Norway                    2982.0\n",
       "Croatia                   2497.5\n",
       "Slovenia                  2415.0\n",
       "Finland                   2332.0\n",
       "Wales                     2324.0\n",
       "Northern Ireland          2247.5\n",
       "Lithuania                 1944.0\n",
       "Panama                    1364.0\n",
       "Chile                     1328.5\n",
       "Oman                      1199.0\n",
       "Seychelles                1059.0\n",
       "Estonia                   1051.5\n",
       "Bulgaria                  1013.0\n",
       "Costa Rica                 763.0\n",
       "Gibraltar                  744.0\n",
       "Cyprus                     729.5\n",
       "Latvia                     597.0\n",
       "Malta                      419.0\n",
       "Isle of Man                146.5\n",
       "Luxembourg                 114.0\n",
       "Ecuador                    108.0\n",
       "Iceland                     63.0\n",
       "Kuwait                       NaN\n",
       "Name: daily_vaccinations, dtype: float64"
      ]
     },
     "execution_count": 9,
     "metadata": {},
     "output_type": "execute_result"
    }
   ],
   "source": [
    "highest_vacc"
   ]
  },
  {
   "cell_type": "code",
   "execution_count": 10,
   "id": "eb9ac74c",
   "metadata": {},
   "outputs": [
    {
     "data": {
      "text/plain": [
       "country\n",
       "United States     399093.0\n",
       "China             299107.5\n",
       "India             182551.5\n",
       "Turkey            154397.5\n",
       "United Kingdom    129663.0\n",
       "Name: daily_vaccinations, dtype: float64"
      ]
     },
     "execution_count": 10,
     "metadata": {},
     "output_type": "execute_result"
    }
   ],
   "source": [
    "highest_vacc.head() #Printing the first 5 rows of the highest median values of the daily_vaccinations."
   ]
  },
  {
   "cell_type": "code",
   "execution_count": null,
   "id": "24d2f65f",
   "metadata": {},
   "outputs": [],
   "source": []
  }
 ],
 "metadata": {
  "kernelspec": {
   "display_name": "Python 3 (ipykernel)",
   "language": "python",
   "name": "python3"
  },
  "language_info": {
   "codemirror_mode": {
    "name": "ipython",
    "version": 3
   },
   "file_extension": ".py",
   "mimetype": "text/x-python",
   "name": "python",
   "nbconvert_exporter": "python",
   "pygments_lexer": "ipython3",
   "version": "3.9.13"
  }
 },
 "nbformat": 4,
 "nbformat_minor": 5
}
